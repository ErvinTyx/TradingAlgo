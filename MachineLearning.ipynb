{
 "cells": [
  {
   "cell_type": "code",
   "execution_count": 1,
   "id": "c5828f90-c03a-4945-bf30-b7a66e474deb",
   "metadata": {},
   "outputs": [],
   "source": [
    "import numpy as np\n",
    "import pandas as pd\n",
    "import matplotlib.pyplot as plt\n",
    "from ta import trend, momentum, volatility\n",
    "from tqdm import tqdm\n",
    "# from sklearn.ensemble import RandomForestClassifier"
   ]
  },
  {
   "cell_type": "code",
   "execution_count": 2,
   "id": "bf048f87-a2af-49a0-9e7c-fafa77b7e4ea",
   "metadata": {},
   "outputs": [],
   "source": [
    "# Modified data preprocessing for your CSV structure\n",
    "def load_and_preprocess(file_path):\n",
    "    df = pd.read_csv(file_path)\n",
    "    df.rename(\n",
    "        columns={\n",
    "            \"tick_volume\": \"Volume\",\n",
    "            \"real_volume\": \"RealVolume\",\n",
    "            \"spread\": \"Spread\",\n",
    "        },\n",
    "        inplace=True,\n",
    "    )\n",
    "\n",
    "    # Convert time to datetime and set as index\n",
    "    df[\"time\"] = pd.to_datetime(df[\"time\"])\n",
    "    df.set_index(\"time\", inplace=True)\n",
    "\n",
    "    # Feature engineering for missing technical indicators\n",
    "    df[\"Price_Range\"] = df[\"High\"] - df[\"Low\"]\n",
    "    df[\"Typical_Price\"] = (df[\"High\"] + df[\"Low\"] + df[\"Close\"]) / 3\n",
    "\n",
    "    return df"
   ]
  },
  {
   "cell_type": "code",
   "execution_count": 3,
   "id": "69190398",
   "metadata": {},
   "outputs": [],
   "source": [
    "def set_tech_indicators(df: pd.DataFrame) -> pd.DataFrame:\n",
    "    df[\"EMA_50\"] = trend.ema_indicator(df[\"Close\"], window=50)\n",
    "    df[\"EMA_200\"] = trend.ema_indicator(df[\"Close\"], window=200)\n",
    "    df[\"RSI\"] = momentum.rsi(df[\"Close\"], window=14)\n",
    "\n",
    "    df[\"ATR\"] = volatility.average_true_range(\n",
    "        df[\"High\"], df[\"Low\"], df[\"Close\"], window=14\n",
    "    )\n",
    "    df[\"BB_high\"] = volatility.bollinger_hband(df[\"Close\"], window=20)\n",
    "    df[\"BB_low\"] = volatility.bollinger_lband(df[\"Close\"], window=20)\n",
    "\n",
    "    # df = df.dropna()\n",
    "\n",
    "    return df"
   ]
  },
  {
   "cell_type": "code",
   "execution_count": 4,
   "id": "b44a3c66-8101-414a-904b-c5ae65ad9787",
   "metadata": {},
   "outputs": [],
   "source": [
    "def enhanced_trend_analysis(prices: pd.DataFrame) -> str:\n",
    "    \"\"\"Modified trend analysis using available data\"\"\"\n",
    "    # prices[\"EMA_50\"] = trend.ema_indicator(prices[\"Close\"], window=50)\n",
    "    # prices[\"EMA_200\"] = trend.ema_indicator(prices[\"Close\"], window=200)\n",
    "    # prices[\"RSI\"] = momentum.rsi(prices[\"Close\"], window=14)\n",
    "\n",
    "    trend_direction = \"Neutral\"\n",
    "    if (\n",
    "        prices[\"EMA_50\"].iloc[-1] > prices[\"EMA_200\"].iloc[-1]\n",
    "        and prices[\"RSI\"].iloc[-1] > 50\n",
    "    ):\n",
    "        trend_direction = \"Uptrend\"\n",
    "    elif (\n",
    "        prices[\"EMA_50\"].iloc[-1] < prices[\"EMA_200\"].iloc[-1]\n",
    "        and prices[\"RSI\"].iloc[-1] < 50\n",
    "    ):\n",
    "        trend_direction = \"Downtrend\"\n",
    "\n",
    "    return trend_direction"
   ]
  },
  {
   "cell_type": "code",
   "execution_count": 5,
   "id": "b65a91f8-4a28-4641-bf3a-1f0ef24d69ea",
   "metadata": {},
   "outputs": [],
   "source": [
    "def volatility_analysis(prices: pd.DataFrame) -> str:\n",
    "    \"\"\"Volatility analysis using available columns\"\"\"\n",
    "    # prices[\"ATR\"] = volatility.average_true_range(\n",
    "    #     prices[\"High\"], prices[\"Low\"], prices[\"Close\"], window=14\n",
    "    # )\n",
    "    # prices[\"BB_high\"] = volatility.bollinger_hband(prices[\"Close\"], window=20)\n",
    "    # prices[\"BB_low\"] = volatility.bollinger_lband(prices[\"Close\"], window=20)\n",
    "\n",
    "    volatility_status = (\n",
    "        \"High\" if prices[\"ATR\"].iloc[-1] > prices[\"ATR\"].mean() else \"Low\"\n",
    "    )\n",
    "    return volatility_status"
   ]
  },
  {
   "cell_type": "code",
   "execution_count": 6,
   "id": "4a4df194-5450-43b4-9a64-1057ec5e5e0a",
   "metadata": {},
   "outputs": [],
   "source": [
    "def ml_feature_engineering(prices):\n",
    "    \"\"\"Create features from available data\"\"\"\n",
    "    features = pd.DataFrame(\n",
    "        {\n",
    "            \"RSI\": momentum.rsi(prices[\"Close\"], window=14),\n",
    "            \"MACD\": trend.macd(prices[\"Close\"]),\n",
    "            \"Price_Range\": prices[\"High\"] - prices[\"Low\"],\n",
    "            \"Spread\": prices[\"Spread\"],\n",
    "            \"Volume_Change\": prices[\"Volume\"].pct_change(),\n",
    "            \"ATR\": volatility.average_true_range(\n",
    "                prices[\"High\"], prices[\"Low\"], prices[\"Close\"], window=14\n",
    "            ),\n",
    "        }\n",
    "    )\n",
    "\n",
    "    return features.dropna()"
   ]
  },
  {
   "cell_type": "code",
   "execution_count": 7,
   "id": "35bb0027-4677-4b4e-a3de-b40d3ceb56bb",
   "metadata": {},
   "outputs": [],
   "source": [
    "def improved_entry_logic(prices: pd.DataFrame) -> str:\n",
    "    \"\"\"Entry logic using available data\"\"\"\n",
    "    trend_direction = enhanced_trend_analysis(prices)\n",
    "    volatility_status = volatility_analysis(prices)\n",
    "\n",
    "    entry_signal = \"No Entry\"\n",
    "    if (\n",
    "        trend_direction == \"Uptrend\"\n",
    "        and prices[\"Close\"].iloc[-1] > prices[\"BB_high\"].iloc[-1]\n",
    "        and volatility_status == \"High\"\n",
    "    ):\n",
    "        entry_signal = \"Entry Long\"\n",
    "\n",
    "    elif (\n",
    "        trend_direction == \"Downtrend\"\n",
    "        and prices[\"Close\"].iloc[-1] < prices[\"BB_low\"].iloc[-1]\n",
    "        and volatility_status == \"High\"\n",
    "    ):\n",
    "        entry_signal = \"Entry Short\"\n",
    "\n",
    "    return entry_signal"
   ]
  },
  {
   "cell_type": "code",
   "execution_count": 8,
   "id": "8542b676-3e6c-47ca-a7a7-142ce90bc527",
   "metadata": {},
   "outputs": [],
   "source": [
    "def dynamic_risk_management(prices):\n",
    "    \"\"\"Risk management using available volatility measures\"\"\"\n",
    "    atr = prices[\"ATR\"].iloc[-1]\n",
    "    position_size = 0.02 * prices[\"Close\"].iloc[-1] / atr\n",
    "    position_size = np.clip(position_size, 0.01, 0.05)\n",
    "\n",
    "    return position_size"
   ]
  },
  {
   "cell_type": "code",
   "execution_count": 9,
   "id": "bb752178-3eef-4018-9fdc-faf2797b9312",
   "metadata": {},
   "outputs": [],
   "source": [
    "def enhanced_backtest(df, signals):\n",
    "    \"\"\"Backtest adapted to available data\"\"\"\n",
    "    df[\"position_size\"] = np.nan\n",
    "    df[\"PnL\"] = np.nan\n",
    "    # df[\"ATR\"] = volatility.average_true_range(\n",
    "    #     df[\"High\"], df[\"Low\"], df[\"Close\"], window=14\n",
    "    # )\n",
    "\n",
    "    in_trade = False\n",
    "    entry_price = 0\n",
    "    position_size = 0\n",
    "\n",
    "    for i in tqdm(range(len(df)), desc=\"Backtesting\"):\n",
    "        if signals[i] != 0 and not in_trade:\n",
    "            position_size = dynamic_risk_management(df.iloc[: i + 1])\n",
    "            entry_price = df[\"Close\"].iloc[i]\n",
    "            in_trade = True\n",
    "            trade_direction = signals[i]\n",
    "\n",
    "        elif in_trade:\n",
    "            if trade_direction == 1:\n",
    "                stop_loss = entry_price - 2 * df[\"ATR\"].iloc[i]\n",
    "                take_profit = entry_price + 3 * df[\"ATR\"].iloc[i]\n",
    "\n",
    "                if df[\"Low\"].iloc[i] <= stop_loss:\n",
    "                    df.at[df.index[i], \"PnL\"] = (\n",
    "                        stop_loss - entry_price\n",
    "                    ) * position_size\n",
    "                    in_trade = False\n",
    "                elif df[\"High\"].iloc[i] >= take_profit:\n",
    "                    df.at[df.index[i], \"PnL\"] = (\n",
    "                        take_profit - entry_price\n",
    "                    ) * position_size\n",
    "                    in_trade = False\n",
    "\n",
    "            elif trade_direction == -1:\n",
    "                stop_loss = entry_price + 2 * df[\"ATR\"].iloc[i]\n",
    "                take_profit = entry_price - 3 * df[\"ATR\"].iloc[i]\n",
    "\n",
    "                if df[\"High\"].iloc[i] >= stop_loss:\n",
    "                    df.at[df.index[i], \"PnL\"] = (\n",
    "                        entry_price - stop_loss\n",
    "                    ) * position_size\n",
    "                    in_trade = False\n",
    "                elif df[\"Low\"].iloc[i] <= take_profit:\n",
    "                    df.at[df.index[i], \"PnL\"] = (\n",
    "                        entry_price - take_profit\n",
    "                    ) * position_size\n",
    "                    in_trade = False\n",
    "\n",
    "    return df"
   ]
  },
  {
   "cell_type": "code",
   "execution_count": 10,
   "id": "5b477f92-0fdd-49fd-a9b5-9caf453dd741",
   "metadata": {},
   "outputs": [],
   "source": [
    "# Modified trading algorithm\n",
    "def improved_trading_algorithm(price_data):\n",
    "    price_data = set_tech_indicators(price_data)\n",
    "    signals = np.full(len(price_data), 0)\n",
    "    # Hold = 0, Buy = 1, Sell = -1\n",
    "    for index in tqdm(range(len(price_data)), desc=\"Trading Algorithm Progress\"):\n",
    "        # if index < 200:  # Warm-up period for indicators\n",
    "        #     continue\n",
    "\n",
    "        current_data = price_data.iloc[: index + 1]\n",
    "        entry_signal = improved_entry_logic(current_data)\n",
    "\n",
    "        if entry_signal == \"Entry Long\":\n",
    "            signals[index] = 1\n",
    "        elif entry_signal == \"Entry Short\":\n",
    "            signals[index] = -1\n",
    "        else:\n",
    "            signals[index] = 0\n",
    "\n",
    "    return signals"
   ]
  },
  {
   "cell_type": "code",
   "execution_count": 11,
   "id": "b658e536-b472-42a9-b015-1619ba74ac82",
   "metadata": {},
   "outputs": [],
   "source": [
    "# Updated statistics calculation\n",
    "def get_stats(complete_trades):\n",
    "    n_trades = len(complete_trades)\n",
    "    win_rate = (\n",
    "        len(complete_trades[complete_trades[\"PnL\"] > 0]) / n_trades\n",
    "        if n_trades > 0\n",
    "        else 0\n",
    "    )\n",
    "    loss_rate = 1 - win_rate\n",
    "    avg_win = (\n",
    "        complete_trades[complete_trades[\"PnL\"] > 0][\"PnL\"].mean() if n_trades > 0 else 0\n",
    "    )\n",
    "    avg_loss = (\n",
    "        complete_trades[complete_trades[\"PnL\"] < 0][\"PnL\"].mean() if n_trades > 0 else 0\n",
    "    )\n",
    "    expectancy = (win_rate * avg_win) - (loss_rate * abs(avg_loss))\n",
    "\n",
    "    return n_trades, win_rate, loss_rate, avg_win, avg_loss, expectancy"
   ]
  },
  {
   "cell_type": "code",
   "execution_count": 12,
   "id": "11ea5a9f-0f04-42df-9914-d79a9f2a1e3a",
   "metadata": {
    "scrolled": true
   },
   "outputs": [
    {
     "name": "stderr",
     "output_type": "stream",
     "text": [
      "Trading Algorithm Progress: 100%|████████████████████████████████████████████████████████████████████████████████████████████████████████████████████████████████| 17315/17315 [00:13<00:00, 1268.05it/s]\n"
     ]
    }
   ],
   "source": [
    "# Main execution\n",
    "file_path = \"Q1-24M5.csv\"  # Replace with your file path\n",
    "df = load_and_preprocess(file_path)\n",
    "signals = improved_trading_algorithm(df)"
   ]
  },
  {
   "cell_type": "code",
   "execution_count": 13,
   "id": "9a01f258-8b59-49e3-8066-08118dddcd8f",
   "metadata": {},
   "outputs": [
    {
     "name": "stderr",
     "output_type": "stream",
     "text": [
      "Backtesting: 100%|██████████████████████████████████████████████████████████████████████████████████████████████████████████████████████████████████████████████| 17315/17315 [00:00<00:00, 47207.36it/s]\n"
     ]
    }
   ],
   "source": [
    "backtest_result = enhanced_backtest(df, signals)"
   ]
  },
  {
   "cell_type": "code",
   "execution_count": 16,
   "id": "7579eaca-0fff-48d6-9404-5c3a62aae179",
   "metadata": {},
   "outputs": [
    {
     "name": "stdout",
     "output_type": "stream",
     "text": [
      "            Complete Trades\n",
      "n_trades         179.000000\n",
      "win_rate           0.357542\n",
      "loss_rate          0.642458\n",
      "avg_win            0.269247\n",
      "avg_loss          -0.165427\n",
      "expectancy        -0.010013\n"
     ]
    }
   ],
   "source": [
    "# Plotting and statistics\n",
    "complete_trades = backtest_result[~backtest_result[\"PnL\"].isna()]\n",
    "stats = pd.DataFrame(\n",
    "    index=[\"n_trades\", \"win_rate\", \"loss_rate\", \"avg_win\", \"avg_loss\", \"expectancy\"]\n",
    ")\n",
    "stats[\"Complete Trades\"] = get_stats(complete_trades)\n",
    "print(stats)"
   ]
  },
  {
   "cell_type": "code",
   "execution_count": null,
   "id": "3b7793cb-4282-4392-9c72-99d9fa1df424",
   "metadata": {},
   "outputs": [],
   "source": []
  }
 ],
 "metadata": {
  "kernelspec": {
   "display_name": "Python 3 (ipykernel)",
   "language": "python",
   "name": "python3"
  },
  "language_info": {
   "codemirror_mode": {
    "name": "ipython",
    "version": 3
   },
   "file_extension": ".py",
   "mimetype": "text/x-python",
   "name": "python",
   "nbconvert_exporter": "python",
   "pygments_lexer": "ipython3",
   "version": "3.10.11"
  }
 },
 "nbformat": 4,
 "nbformat_minor": 5
}
